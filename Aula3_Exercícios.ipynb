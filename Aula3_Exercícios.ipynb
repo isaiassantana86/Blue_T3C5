{
  "nbformat": 4,
  "nbformat_minor": 0,
  "metadata": {
    "colab": {
      "name": "Aula3_Exercícios.ipynb",
      "provenance": [],
      "authorship_tag": "ABX9TyN5Cv2FnT6YvynIN1jX9EGU",
      "include_colab_link": true
    },
    "kernelspec": {
      "name": "python3",
      "display_name": "Python 3"
    },
    "language_info": {
      "name": "python"
    }
  },
  "cells": [
    {
      "cell_type": "markdown",
      "metadata": {
        "id": "view-in-github",
        "colab_type": "text"
      },
      "source": [
        "<a href=\"https://colab.research.google.com/github/isaiassantana86/Blue_T3C5/blob/main/Aula3_Exerc%C3%ADcios.ipynb\" target=\"_parent\"><img src=\"https://colab.research.google.com/assets/colab-badge.svg\" alt=\"Open In Colab\"/></a>"
      ]
    },
    {
      "cell_type": "code",
      "metadata": {
        "colab": {
          "base_uri": "https://localhost:8080/"
        },
        "id": "PdsJOxLjAVns",
        "outputId": "f1f4958c-6f0b-4045-dd96-2847c731c3b3"
      },
      "source": [
        "nome = input (\"Olá, qual o seu nome?\").title()\n",
        "print (f\"Bem-vindo(a){nome}!\")"
      ],
      "execution_count": 1,
      "outputs": [
        {
          "output_type": "stream",
          "text": [
            "Olá, qual o seu nome?Isaias\n",
            "Bem-vindo(a)Isaias!\n"
          ],
          "name": "stdout"
        }
      ]
    },
    {
      "cell_type": "code",
      "metadata": {
        "colab": {
          "base_uri": "https://localhost:8080/"
        },
        "id": "sSjPjqI8DtmI",
        "outputId": "a1850845-d09d-4690-8825-b192581fb607"
      },
      "source": [
        "frase = input(\"Digite uma frase: \\n\")\n",
        "print (frase.upper().replace(\" \",\"\"))"
      ],
      "execution_count": 7,
      "outputs": [
        {
          "output_type": "stream",
          "text": [
            "Digite uma frase: \n",
            "oi tudo bem\n",
            "OITUDOBEM\n"
          ],
          "name": "stdout"
        }
      ]
    },
    {
      "cell_type": "code",
      "metadata": {
        "colab": {
          "base_uri": "https://localhost:8080/"
        },
        "id": "CwT0O0OhF7EO",
        "outputId": "cc2446ed-5150-424b-ea38-b793e0ce0749"
      },
      "source": [
        "altura = float (input(\"Qual a sua altura? \\nM \").replace(\",\",\".\")) #,and pra posicionar medida depois(testar)\n",
        "peso = float (input(\"Qual o seu peso? \\nKg\").replace(\",\",\".\").replace(\"k\",\"\"))\n",
        "imc = peso/(altura*2)\n",
        "print (altura)\n",
        "print (type(altura))\n",
        "print (peso)\n",
        "print (f\"O seu IMC é: {imc:.1f}\")\n"
      ],
      "execution_count": 9,
      "outputs": [
        {
          "output_type": "stream",
          "text": [
            "Qual a sua altura? \n",
            "M 1,81\n",
            "Qual o seu peso? \n",
            "Kg79\n",
            "1.81\n",
            "<class 'float'>\n",
            "79.0\n",
            "O seu IMC é: 21.8\n"
          ],
          "name": "stdout"
        }
      ]
    }
  ]
}