{
  "nbformat": 4,
  "nbformat_minor": 0,
  "metadata": {
    "colab": {
      "name": "Aula_03_fatimentoString.ipynb",
      "provenance": [],
      "authorship_tag": "ABX9TyM2ejXnu5i4ZLwet7haXtfl",
      "include_colab_link": true
    },
    "kernelspec": {
      "name": "python3",
      "display_name": "Python 3"
    },
    "language_info": {
      "name": "python"
    }
  },
  "cells": [
    {
      "cell_type": "markdown",
      "metadata": {
        "id": "view-in-github",
        "colab_type": "text"
      },
      "source": [
        "<a href=\"https://colab.research.google.com/github/isaiassantana86/Blue_T3C5/blob/main/Aula_03_fatimentoString.ipynb\" target=\"_parent\"><img src=\"https://colab.research.google.com/assets/colab-badge.svg\" alt=\"Open In Colab\"/></a>"
      ]
    },
    {
      "cell_type": "code",
      "metadata": {
        "colab": {
          "base_uri": "https://localhost:8080/"
        },
        "id": "gqptjVi6LEfg",
        "outputId": "75368a67-52b2-4500-cfb8-0151993ca5c2"
      },
      "source": [
        "string1 = \"Sejam bem-vindos(as) à Blue!\"\n",
        "print (len(string1))\n",
        "print (string1[4])\n",
        "print (string1[0:5]) #Quando estiver fatiando colocar sempre um a mais\n",
        "print (string1[:5])\n",
        "print (string1[5:])"
      ],
      "execution_count": 9,
      "outputs": [
        {
          "output_type": "stream",
          "text": [
            "28\n",
            "m\n",
            "Sejam\n",
            "Sejam\n",
            " bem-vindos(as) à Blue!\n"
          ],
          "name": "stdout"
        }
      ]
    },
    {
      "cell_type": "code",
      "metadata": {
        "colab": {
          "base_uri": "https://localhost:8080/"
        },
        "id": "4P99rYg8SqOJ",
        "outputId": "9a7d432a-e7c4-497a-8137-4ff6b988a47b"
      },
      "source": [
        "stringA = \"Os limites só existem se você os deixar existir.(goku)\"\n",
        "print (len(stringA)) # indice é tamanho menos 1 , 53\n",
        "print (stringA[48:54])"
      ],
      "execution_count": 20,
      "outputs": [
        {
          "output_type": "stream",
          "text": [
            "54\n",
            "(goku)\n"
          ],
          "name": "stdout"
        }
      ]
    },
    {
      "cell_type": "code",
      "metadata": {
        "colab": {
          "base_uri": "https://localhost:8080/"
        },
        "id": "20oMYd5BUvqE",
        "outputId": "7b4cdc71-39c7-493b-8d02-66fe7577a47a"
      },
      "source": [
        "B = \"Fatiou, passou.(Capitão Nascimento - Tropa de Elite)\"\n",
        "print (len(B))\n",
        "print (B[37:42])\n"
      ],
      "execution_count": 28,
      "outputs": [
        {
          "output_type": "stream",
          "text": [
            "52\n",
            "Tropa\n"
          ],
          "name": "stdout"
        }
      ]
    },
    {
      "cell_type": "code",
      "metadata": {
        "id": "7FyHJVFEVTvd"
      },
      "source": [
        ""
      ],
      "execution_count": null,
      "outputs": []
    }
  ]
}