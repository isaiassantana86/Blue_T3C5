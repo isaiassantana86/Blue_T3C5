{
  "nbformat": 4,
  "nbformat_minor": 0,
  "metadata": {
    "colab": {
      "name": "Aula5_Exemplos.ipynb",
      "provenance": [],
      "authorship_tag": "ABX9TyM7ho4mMiEOutkfAs0sptQ0",
      "include_colab_link": true
    },
    "kernelspec": {
      "name": "python3",
      "display_name": "Python 3"
    },
    "language_info": {
      "name": "python"
    }
  },
  "cells": [
    {
      "cell_type": "markdown",
      "metadata": {
        "id": "view-in-github",
        "colab_type": "text"
      },
      "source": [
        "<a href=\"https://colab.research.google.com/github/isaiassantana86/Blue_T3C5/blob/main/Aula5_Exemplos.ipynb\" target=\"_parent\"><img src=\"https://colab.research.google.com/assets/colab-badge.svg\" alt=\"Open In Colab\"/></a>"
      ]
    },
    {
      "cell_type": "code",
      "metadata": {
        "id": "en0pJk_n9pQf",
        "colab": {
          "base_uri": "https://localhost:8080/"
        },
        "outputId": "ec0e3afd-b5c5-45c2-85fa-9f37369fa3f4"
      },
      "source": [
        "idade = int (input(\"Digite um número: \"))\n",
        "\n",
        "if idade <= 15:\n",
        "  print (\"Você ainda não pode comecar as aulas de direção!!!\")\n",
        "elif idade >= 18 and idade <=60:\n",
        "  print (\"Você já pode comecar as aulas de direção!!! Parabéns!!!!\")\n",
        "elif idade > 60:\n",
        "  print (\"Você está na flor da idade!!!\")\n",
        "else:\n",
        "  print (\"Bora lá\")\n"
      ],
      "execution_count": 12,
      "outputs": [
        {
          "output_type": "stream",
          "text": [
            "Digite um número: 61\n",
            "Você está na flor da idade!!!\n"
          ],
          "name": "stdout"
        }
      ]
    },
    {
      "cell_type": "code",
      "metadata": {
        "colab": {
          "base_uri": "https://localhost:8080/"
        },
        "id": "qZSpftbJlvQV",
        "outputId": "48cab0ca-89a4-4d9f-8be9-4b489d607b88"
      },
      "source": [
        "#WHILE\n",
        "\n",
        "num1 = 10\n",
        "num2 = 5\n",
        "#num1 = int(input(\"Digite um numero: \"))\n",
        "#num2 = int(input(\"Digite outro numero: \"))\n",
        "\n",
        "while num1 > num2:\n",
        "  print(f\"O {num1} é maior\")\n",
        "  num1 = int (input(\"Digite um número: \"))\n",
        "  num2 = int (input(\"Digite um número: \"))"
      ],
      "execution_count": 14,
      "outputs": [
        {
          "output_type": "stream",
          "text": [
            "O 10 é maior\n",
            "Digite um número: 11\n",
            "Digite um número: 12\n"
          ],
          "name": "stdout"
        }
      ]
    }
  ]
}