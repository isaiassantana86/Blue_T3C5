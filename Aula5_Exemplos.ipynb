{
  "nbformat": 4,
  "nbformat_minor": 0,
  "metadata": {
    "colab": {
      "name": "Aula5_Exemplos.ipynb",
      "provenance": [],
      "authorship_tag": "ABX9TyM4HIz2EM6WwaBYSlh98wcY",
      "include_colab_link": true
    },
    "kernelspec": {
      "name": "python3",
      "display_name": "Python 3"
    },
    "language_info": {
      "name": "python"
    }
  },
  "cells": [
    {
      "cell_type": "markdown",
      "metadata": {
        "id": "view-in-github",
        "colab_type": "text"
      },
      "source": [
        "<a href=\"https://colab.research.google.com/github/isaiassantana86/Blue_T3C5/blob/main/Aula5_Exemplos.ipynb\" target=\"_parent\"><img src=\"https://colab.research.google.com/assets/colab-badge.svg\" alt=\"Open In Colab\"/></a>"
      ]
    },
    {
      "cell_type": "code",
      "metadata": {
        "id": "en0pJk_n9pQf",
        "colab": {
          "base_uri": "https://localhost:8080/"
        },
        "outputId": "ec0e3afd-b5c5-45c2-85fa-9f37369fa3f4"
      },
      "source": [
        "idade = int (input(\"Digite um número: \"))\n",
        "\n",
        "if idade <= 15:\n",
        "  print (\"Você ainda não pode comecar as aulas de direção!!!\")\n",
        "elif idade >= 18 and idade <=60:\n",
        "  print (\"Você já pode comecar as aulas de direção!!! Parabéns!!!!\")\n",
        "elif idade > 60:\n",
        "  print (\"Você está na flor da idade!!!\")\n",
        "else:\n",
        "  print (\"Bora lá\")\n"
      ],
      "execution_count": 12,
      "outputs": [
        {
          "output_type": "stream",
          "text": [
            "Digite um número: 61\n",
            "Você está na flor da idade!!!\n"
          ],
          "name": "stdout"
        }
      ]
    },
    {
      "cell_type": "code",
      "metadata": {
        "colab": {
          "base_uri": "https://localhost:8080/"
        },
        "id": "qZSpftbJlvQV",
        "outputId": "48cab0ca-89a4-4d9f-8be9-4b489d607b88"
      },
      "source": [
        "#WHILE\n",
        "\n",
        "num1 = 10\n",
        "num2 = 5\n",
        "#num1 = int(input(\"Digite um numero: \"))\n",
        "#num2 = int(input(\"Digite outro numero: \"))\n",
        "\n",
        "while num1 > num2:\n",
        "  print(f\"O {num1} é maior\")\n",
        "  num1 = int (input(\"Digite um número: \"))\n",
        "  num2 = int (input(\"Digite um número: \"))"
      ],
      "execution_count": 14,
      "outputs": [
        {
          "output_type": "stream",
          "text": [
            "O 10 é maior\n",
            "Digite um número: 11\n",
            "Digite um número: 12\n"
          ],
          "name": "stdout"
        }
      ]
    },
    {
      "cell_type": "code",
      "metadata": {
        "colab": {
          "base_uri": "https://localhost:8080/"
        },
        "id": "5iXqabMqtqQQ",
        "outputId": "2a485f2f-be51-4245-f1dc-d84c55f271a9"
      },
      "source": [
        "i = 0\n",
        "while i<1000:\n",
        "  num = int(input(\"Digite valor que deseja somar: \"))\n",
        "  i += num\n",
        "  print (i)"
      ],
      "execution_count": 18,
      "outputs": [
        {
          "output_type": "stream",
          "text": [
            "Digite valor que deseja somar: 10\n",
            "10\n",
            "Digite valor que deseja somar: 100\n",
            "110\n",
            "Digite valor que deseja somar: 400\n",
            "510\n",
            "Digite valor que deseja somar: 300\n",
            "810\n",
            "Digite valor que deseja somar: 200\n",
            "1010\n"
          ],
          "name": "stdout"
        }
      ]
    },
    {
      "cell_type": "code",
      "metadata": {
        "colab": {
          "base_uri": "https://localhost:8080/"
        },
        "id": "QWTJe8x7xFQG",
        "outputId": "748729f0-501c-4021-8c7f-ca6793cf7443"
      },
      "source": [
        "i = 0\n",
        "\n",
        "while True:\n",
        "  i += 1\n",
        "  print(i)\n",
        "  #print(type(1))\n",
        "  if i > 100:\n",
        "    break"
      ],
      "execution_count": 24,
      "outputs": [
        {
          "output_type": "stream",
          "text": [
            "1\n",
            "2\n",
            "3\n",
            "4\n",
            "5\n",
            "6\n",
            "7\n",
            "8\n",
            "9\n",
            "10\n",
            "11\n",
            "12\n",
            "13\n",
            "14\n",
            "15\n",
            "16\n",
            "17\n",
            "18\n",
            "19\n",
            "20\n",
            "21\n",
            "22\n",
            "23\n",
            "24\n",
            "25\n",
            "26\n",
            "27\n",
            "28\n",
            "29\n",
            "30\n",
            "31\n",
            "32\n",
            "33\n",
            "34\n",
            "35\n",
            "36\n",
            "37\n",
            "38\n",
            "39\n",
            "40\n",
            "41\n",
            "42\n",
            "43\n",
            "44\n",
            "45\n",
            "46\n",
            "47\n",
            "48\n",
            "49\n",
            "50\n",
            "51\n",
            "52\n",
            "53\n",
            "54\n",
            "55\n",
            "56\n",
            "57\n",
            "58\n",
            "59\n",
            "60\n",
            "61\n",
            "62\n",
            "63\n",
            "64\n",
            "65\n",
            "66\n",
            "67\n",
            "68\n",
            "69\n",
            "70\n",
            "71\n",
            "72\n",
            "73\n",
            "74\n",
            "75\n",
            "76\n",
            "77\n",
            "78\n",
            "79\n",
            "80\n",
            "81\n",
            "82\n",
            "83\n",
            "84\n",
            "85\n",
            "86\n",
            "87\n",
            "88\n",
            "89\n",
            "90\n",
            "91\n",
            "92\n",
            "93\n",
            "94\n",
            "95\n",
            "96\n",
            "97\n",
            "98\n",
            "99\n",
            "100\n",
            "101\n"
          ],
          "name": "stdout"
        }
      ]
    },
    {
      "cell_type": "code",
      "metadata": {
        "colab": {
          "base_uri": "https://localhost:8080/"
        },
        "id": "ICOYsuVBy5GW",
        "outputId": "87de30a7-a2c7-42e9-d75c-adaaf2fcb1d1"
      },
      "source": [
        "# i = 0\n",
        "\n",
        "# while True:\n",
        "#   i += 1\n",
        "#   print(i)\n",
        "#   #print(type(1))\n",
        "#   if i >= 99:\n",
        "#     break\n",
        "\n",
        "i=0\n",
        "while True:\n",
        "  print (i)\n",
        "  i += 1\n",
        "  if i>100:\n",
        "    break"
      ],
      "execution_count": 28,
      "outputs": [
        {
          "output_type": "stream",
          "text": [
            "0\n",
            "1\n",
            "2\n",
            "3\n",
            "4\n",
            "5\n",
            "6\n",
            "7\n",
            "8\n",
            "9\n",
            "10\n",
            "11\n",
            "12\n",
            "13\n",
            "14\n",
            "15\n",
            "16\n",
            "17\n",
            "18\n",
            "19\n",
            "20\n",
            "21\n",
            "22\n",
            "23\n",
            "24\n",
            "25\n",
            "26\n",
            "27\n",
            "28\n",
            "29\n",
            "30\n",
            "31\n",
            "32\n",
            "33\n",
            "34\n",
            "35\n",
            "36\n",
            "37\n",
            "38\n",
            "39\n",
            "40\n",
            "41\n",
            "42\n",
            "43\n",
            "44\n",
            "45\n",
            "46\n",
            "47\n",
            "48\n",
            "49\n",
            "50\n",
            "51\n",
            "52\n",
            "53\n",
            "54\n",
            "55\n",
            "56\n",
            "57\n",
            "58\n",
            "59\n",
            "60\n",
            "61\n",
            "62\n",
            "63\n",
            "64\n",
            "65\n",
            "66\n",
            "67\n",
            "68\n",
            "69\n",
            "70\n",
            "71\n",
            "72\n",
            "73\n",
            "74\n",
            "75\n",
            "76\n",
            "77\n",
            "78\n",
            "79\n",
            "80\n",
            "81\n",
            "82\n",
            "83\n",
            "84\n",
            "85\n",
            "86\n",
            "87\n",
            "88\n",
            "89\n",
            "90\n",
            "91\n",
            "92\n",
            "93\n",
            "94\n",
            "95\n",
            "96\n",
            "97\n",
            "98\n",
            "99\n",
            "100\n"
          ],
          "name": "stdout"
        }
      ]
    }
  ]
}