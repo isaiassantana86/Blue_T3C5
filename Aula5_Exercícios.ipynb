{
  "nbformat": 4,
  "nbformat_minor": 0,
  "metadata": {
    "colab": {
      "name": "Aula5_Exercícios.ipynb",
      "provenance": [],
      "collapsed_sections": [],
      "authorship_tag": "ABX9TyMaghU1h02564M5wPEKQk8w",
      "include_colab_link": true
    },
    "kernelspec": {
      "name": "python3",
      "display_name": "Python 3"
    },
    "language_info": {
      "name": "python"
    }
  },
  "cells": [
    {
      "cell_type": "markdown",
      "metadata": {
        "id": "view-in-github",
        "colab_type": "text"
      },
      "source": [
        "<a href=\"https://colab.research.google.com/github/isaiassantana86/Blue_T3C5/blob/main/Aula5_Exerc%C3%ADcios.ipynb\" target=\"_parent\"><img src=\"https://colab.research.google.com/assets/colab-badge.svg\" alt=\"Open In Colab\"/></a>"
      ]
    },
    {
      "cell_type": "markdown",
      "metadata": {
        "id": "vV2c3LPCBeKN"
      },
      "source": [
        "1 - Faça um programa que leia o sexo biológico de uma pessoa, mas só aceite os valores ‘M’ ou ‘F’.\n",
        "Caso esteja errado, peça a digitação novamente até ter um valor correto."
      ]
    },
    {
      "cell_type": "code",
      "metadata": {
        "colab": {
          "base_uri": "https://localhost:8080/"
        },
        "id": "-a8NN5AMBaVd",
        "outputId": "b970c2be-6792-4033-8b10-1b67c372b1cf"
      },
      "source": [
        "sexo = input(\"Olá. Digite seu sexo [F/M]: \")\n",
        "while sexo != \"F\" and sexo != \"M\":\n",
        "  sexo = input(\"Tente novamente [F/M]: \")\n",
        "print(\"Obrigado !!!!!\")"
      ],
      "execution_count": 28,
      "outputs": [
        {
          "output_type": "stream",
          "text": [
            "Olá. Digite seu sexo [F/M]: m\n",
            "Tente novamente [F/M]: f\n",
            "Tente novamente [F/M]: F\n",
            "Obrigado !!!!!\n"
          ],
          "name": "stdout"
        }
      ]
    },
    {
      "cell_type": "markdown",
      "metadata": {
        "id": "uRvXHH7VLGfB"
      },
      "source": [
        "2 - Escreva um programa que pede a senha uma senha ao usuário, e só sai do loop quando digitarem\n",
        "corretamente a senha. A senha é “Blue123”\n",
        "2b - Exiba quantas vezes o usuário errou a digitação."
      ]
    },
    {
      "cell_type": "code",
      "metadata": {
        "colab": {
          "base_uri": "https://localhost:8080/"
        },
        "id": "EMnBUAL7Uk8z",
        "outputId": "dc598908-fbdb-4776-d194-f9f06d45fd91"
      },
      "source": [
        "senha = input(\"Informe a senha: \")\n",
        "\n",
        "while senha != \"Blue123\":\n",
        "  input(\"Tente Novamente, Informe a senha: \")\n",
        "\n",
        "print\n"
      ],
      "execution_count": 10,
      "outputs": [
        {
          "output_type": "stream",
          "text": [
            "Informe a senha: Blue123\n"
          ],
          "name": "stdout"
        }
      ]
    },
    {
      "cell_type": "markdown",
      "metadata": {
        "id": "1AAz4RWNLx6S"
      },
      "source": [
        "3 - Crie um programa que leia a idade e o sexo de várias pessoas. A cada pessoa\n",
        "cadastrada, o programa deverá perguntar se o usuário quer ou não continuar. No\n",
        "final, mostre:\n",
        "A) Quantas pessoas tem mais de 18 anos.\n",
        "B) Quantos homens foram cadastrados.\n",
        "C) Quantas mulheres tem menos de 20 anos."
      ]
    },
    {
      "cell_type": "markdown",
      "metadata": {
        "id": "1txMfdE7L1Vz"
      },
      "source": [
        "DESAFIO:\n",
        "4 - Crie um jogo onde o computador vai “pensar” em um número entre 0 e 10. O jogador vai tentar\n",
        "adivinhar qual número foi escolhido até acertar, mostrando no final quantos palpites foram\n",
        "necessários para vencer."
      ]
    },
    {
      "cell_type": "code",
      "metadata": {
        "id": "M7EL-kIuL6Gj"
      },
      "source": [
        ""
      ],
      "execution_count": null,
      "outputs": []
    },
    {
      "cell_type": "markdown",
      "metadata": {
        "id": "PKsfvxOOLgbq"
      },
      "source": [
        "EXTRA - Faça um programa que mostre todos os primos entre 1 e N sendo N um número inteiro fornecido pelo usuário. O programa deverá mostrar também o número de divisões que ele executou para encontrar os números primos.\n",
        "\n"
      ]
    },
    {
      "cell_type": "code",
      "metadata": {
        "id": "W1R1B9-_LsxO"
      },
      "source": [
        ""
      ],
      "execution_count": null,
      "outputs": []
    }
  ]
}