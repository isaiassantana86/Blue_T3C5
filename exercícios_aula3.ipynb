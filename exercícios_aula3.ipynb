{
  "nbformat": 4,
  "nbformat_minor": 0,
  "metadata": {
    "colab": {
      "name": "exercícios_aula3.ipynb",
      "provenance": [],
      "authorship_tag": "ABX9TyPBhIYO0OV3lBXZAOVSKWBs",
      "include_colab_link": true
    },
    "kernelspec": {
      "name": "python3",
      "display_name": "Python 3"
    },
    "language_info": {
      "name": "python"
    }
  },
  "cells": [
    {
      "cell_type": "markdown",
      "metadata": {
        "id": "view-in-github",
        "colab_type": "text"
      },
      "source": [
        "<a href=\"https://colab.research.google.com/github/isaiassantana86/Blue_T3C5/blob/main/exerc%C3%ADcios_aula3.ipynb\" target=\"_parent\"><img src=\"https://colab.research.google.com/assets/colab-badge.svg\" alt=\"Open In Colab\"/></a>"
      ]
    },
    {
      "cell_type": "code",
      "metadata": {
        "colab": {
          "base_uri": "https://localhost:8080/"
        },
        "id": "PdsJOxLjAVns",
        "outputId": "f1f4958c-6f0b-4045-dd96-2847c731c3b3"
      },
      "source": [
        "nome = input (\"Olá, qual o seu nome?\").title()\n",
        "print (f\"Bem-vindo(a){nome}!\")"
      ],
      "execution_count": 1,
      "outputs": [
        {
          "output_type": "stream",
          "text": [
            "Olá, qual o seu nome?Isaias\n",
            "Bem-vindo(a)Isaias!\n"
          ],
          "name": "stdout"
        }
      ]
    }
  ]
}