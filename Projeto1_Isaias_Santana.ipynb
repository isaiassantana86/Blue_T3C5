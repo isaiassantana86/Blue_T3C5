{
  "nbformat": 4,
  "nbformat_minor": 0,
  "metadata": {
    "colab": {
      "name": "Projeto1_Isaias Santana.ipynb",
      "provenance": [],
      "authorship_tag": "ABX9TyMlNXZ8rBeJZH1O0FRXqfs2",
      "include_colab_link": true
    },
    "kernelspec": {
      "name": "python3",
      "display_name": "Python 3"
    },
    "language_info": {
      "name": "python"
    }
  },
  "cells": [
    {
      "cell_type": "markdown",
      "metadata": {
        "id": "view-in-github",
        "colab_type": "text"
      },
      "source": [
        "<a href=\"https://colab.research.google.com/github/isaiassantana86/Blue_T3C5/blob/main/Projeto1_Isaias_Santana.ipynb\" target=\"_parent\"><img src=\"https://colab.research.google.com/assets/colab-badge.svg\" alt=\"Open In Colab\"/></a>"
      ]
    },
    {
      "cell_type": "markdown",
      "metadata": {
        "id": "SQDQymqgjqXH"
      },
      "source": [
        "Projeto 01 – Detetive\n",
        "Esse projeto tem a finalidade de fixar os conhecimentos de Variáveis, Print, Input\n",
        "e Condicionais, para isso crie um programa que faça 5 perguntas para uma\n",
        "pessoa sobre um crime. As perguntas são:\n",
        "*   \"Você telefonou para a vítima?\"\n",
        "*   \"Você esteve no local do crime?\"\n",
        "*   \"Você mora perto da vítima?\"\n",
        "*   \" Você devia para a vítima?\"\n",
        "*   \" Você já trabalhou com a vítima?\"\n",
        "O programa deve, no final, emitir uma classificação sobre a participação da\n",
        "pessoa no crime.\n",
        "Se a pessoa responder positivamente a:\n",
        "• 2 questões ela deve ser classificada como \"Suspeita\",\n",
        "• Entre 3 e 4 como \"Cúmplice\"\n",
        "• 5 como \"Assassino\".\n",
        "• Caso contrário, ele será classificado como \"Inocente\"."
      ]
    },
    {
      "cell_type": "code",
      "metadata": {
        "id": "O8iJR505iybp"
      },
      "source": [
        ""
      ],
      "execution_count": null,
      "outputs": []
    }
  ]
}