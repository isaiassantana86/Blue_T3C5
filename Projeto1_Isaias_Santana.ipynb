{
  "nbformat": 4,
  "nbformat_minor": 0,
  "metadata": {
    "colab": {
      "name": "Projeto1_Isaias Santana.ipynb",
      "provenance": [],
      "authorship_tag": "ABX9TyOUuXSJRqg2c+lb5wlRV0Lb",
      "include_colab_link": true
    },
    "kernelspec": {
      "name": "python3",
      "display_name": "Python 3"
    },
    "language_info": {
      "name": "python"
    }
  },
  "cells": [
    {
      "cell_type": "markdown",
      "metadata": {
        "id": "view-in-github",
        "colab_type": "text"
      },
      "source": [
        "<a href=\"https://colab.research.google.com/github/isaiassantana86/Blue_T3C5/blob/main/Projeto1_Isaias_Santana.ipynb\" target=\"_parent\"><img src=\"https://colab.research.google.com/assets/colab-badge.svg\" alt=\"Open In Colab\"/></a>"
      ]
    },
    {
      "cell_type": "markdown",
      "metadata": {
        "id": "SQDQymqgjqXH"
      },
      "source": [
        "Projeto 01 – Detetive\n",
        "\n",
        "Esse projeto tem a finalidade de fixar os conhecimentos de Variáveis, Print, Input e Condicionais, para isso crie um programa que faça 5 perguntas para uma\n",
        "pessoa sobre um crime. As perguntas são:\n",
        "*   \"Você telefonou para a vítima?\"\n",
        "*   \"Você esteve no local do crime?\"\n",
        "*   \"Você mora perto da vítima?\"\n",
        "*   \"Você devia para a vítima?\"\n",
        "*   \"Você já trabalhou com a vítima?\"\n",
        "\n",
        "O programa deve, no final, emitir uma classificação sobre a participação da pessoa no crime.\n",
        "Se a pessoa responder positivamente a:\n",
        "*   2 questões ela deve ser classificada como \"Suspeita\",\n",
        "*   Entre 3 e 4 como \"Cúmplice\"\n",
        "*   5 como \"Assassino\".\n",
        "*   Caso contrário, ele será classificado como \"Inocente\".\n"
      ]
    },
    {
      "cell_type": "code",
      "metadata": {
        "colab": {
          "base_uri": "https://localhost:8080/"
        },
        "id": "O8iJR505iybp",
        "outputId": "f307a78e-951c-4fb6-bd93-317e6bf25685"
      },
      "source": [
        "nome = ''\n",
        "soma = 0\n",
        "nome = input(\"Informe seu nome:\\n\")\n",
        "print()\n",
        "print (f\"Olá {nome}, responda as perguntas abaixo: \\n\")\n",
        "\n",
        "p1 = input(\"Você telefonou para a vítima?[SIM/NÃO]\\n\").upper()\n",
        "# if p1 != \"SIM\" or p1 != \"sim\":\n",
        "#   print(\"Responda SIM ou NÃO ao questionamento!!\")\n",
        "p2 = input(\"Você esteve no local do crime?[SIM/NÃO]\\n\").upper()\n",
        "p3 = input(\"Você mora perto da vítima?[SIM/NÃO]\\n\").upper()\n",
        "p4 = input(\"Você devia para a vítima?[SIM/NÃO]\\n\").upper()\n",
        "p5 = input(\"Você já trabalhou com a vítima?[SIM/NÃO]\\n\").upper()\n",
        "\n",
        "if p1 == \"SIM\":\n",
        "  soma += 1\n",
        "if p2 == \"SIM\":\n",
        "  soma += 1\n",
        "if p3 == \"SIM\":\n",
        "  soma += 1\n",
        "if p4 == \"SIM\":\n",
        "  soma += 1\n",
        "if p5 == \"SIM\":\n",
        "  soma += 1\n",
        "\n",
        "# print (soma)\n",
        "# print(type(soma))\n",
        "\n",
        "if soma == 5:\n",
        "  print(f\"{nome}, você é o(a) ASSASSINO(a)!!!\")\n",
        "elif 3<= soma <= 4:\n",
        "  print(f\"{nome}, você é o(a) CÚMPLICE!!!\")\n",
        "elif soma == 2:\n",
        "  print(f\"{nome}, você é SUSPEITO(a)!!!\")\n",
        "elif soma <= 1:\n",
        "  print(f\"{nome}, você é INOCENTE!!!\")\n"
      ],
      "execution_count": 43,
      "outputs": [
        {
          "output_type": "stream",
          "text": [
            "Informe seu nome:\n",
            "is\n",
            "\n",
            "Olá is, responda as perguntas abaixo: \n",
            "\n",
            "Você telefonou para a vítima?[SIM/NÃO]\n",
            "rd\n",
            "Responda SIM ou NÃO ao questionamento!!\n",
            "Você esteve no local do crime?[SIM/NÃO]\n",
            "sim\n",
            "Você mora perto da vítima?[SIM/NÃO]\n",
            "s\n",
            "Você devia para a vítima?[SIM/NÃO]\n",
            "SIM\n",
            "Você já trabalhou com a vítima?[SIM/NÃO]\n",
            "J\n",
            "is, você é SUSPEITO(a)!!!\n"
          ],
          "name": "stdout"
        }
      ]
    }
  ]
}