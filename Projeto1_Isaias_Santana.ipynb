{
  "nbformat": 4,
  "nbformat_minor": 0,
  "metadata": {
    "colab": {
      "name": "Projeto1_Isaias Santana.ipynb",
      "provenance": [],
      "authorship_tag": "ABX9TyN/ihoyZBiPDCbCZG1I/5XZ",
      "include_colab_link": true
    },
    "kernelspec": {
      "name": "python3",
      "display_name": "Python 3"
    },
    "language_info": {
      "name": "python"
    }
  },
  "cells": [
    {
      "cell_type": "markdown",
      "metadata": {
        "id": "view-in-github",
        "colab_type": "text"
      },
      "source": [
        "<a href=\"https://colab.research.google.com/github/isaiassantana86/Blue_T3C5/blob/main/Projeto1_Isaias_Santana.ipynb\" target=\"_parent\"><img src=\"https://colab.research.google.com/assets/colab-badge.svg\" alt=\"Open In Colab\"/></a>"
      ]
    },
    {
      "cell_type": "markdown",
      "metadata": {
        "id": "SQDQymqgjqXH"
      },
      "source": [
        "Projeto 01 – Detetive\n",
        "\n",
        "Esse projeto tem a finalidade de fixar os conhecimentos de Variáveis, Print, Input e Condicionais, para isso crie um programa que faça 5 perguntas para uma\n",
        "pessoa sobre um crime. As perguntas são:\n",
        "*   \"Você telefonou para a vítima?\"\n",
        "*   \"Você esteve no local do crime?\"\n",
        "*   \"Você mora perto da vítima?\"\n",
        "*   \"Você devia para a vítima?\"\n",
        "*   \"Você já trabalhou com a vítima?\"\n",
        "\n",
        "O programa deve, no final, emitir uma classificação sobre a participação da pessoa no crime.\n",
        "Se a pessoa responder positivamente a:\n",
        "*   2 questões ela deve ser classificada como \"Suspeita\",\n",
        "*   Entre 3 e 4 como \"Cúmplice\"\n",
        "*   5 como \"Assassino\".\n",
        "*   Caso contrário, ele será classificado como \"Inocente\".\n"
      ]
    },
    {
      "cell_type": "code",
      "metadata": {
        "colab": {
          "base_uri": "https://localhost:8080/",
          "height": 129
        },
        "id": "O8iJR505iybp",
        "outputId": "b7f99bb7-b5ae-4b76-eef6-26381c11c7f2"
      },
      "source": [
        "nome = ''\n",
        "nome = input(\"Informe seu nome:\\n\")\n",
        "print()\n",
        "print (f\"Olá {nome}, responda as perguntas abaixo: \\n\")\n",
        "\n",
        "p1 = input(\"Você telefonou para a vítima?[SIM/NÃO]\\n\")\n",
        "# p2 = input(\"Você esteve no local do crime?[SIM/NÃO]\\n\")\n",
        "# p3 = input(\"Você mora perto da vítima?[SIM/NÃO]\\n\")\n",
        "# p4 = input(\"Você devia para a vítima?[SIM/NÃO]\\n\")\n",
        "# p5 = input(\"Você já trabalhou com a vítima?[SIM/NÃO]\\n\")\n",
        "\n",
        "if p1 = SIM:\n",
        "  p1 = 1\n",
        "\n",
        "# suspeita\n",
        "# cumplice\n",
        "# assassino\n",
        "# inocente\n"
      ],
      "execution_count": 13,
      "outputs": [
        {
          "output_type": "error",
          "ename": "SyntaxError",
          "evalue": "ignored",
          "traceback": [
            "\u001b[0;36m  File \u001b[0;32m\"<ipython-input-13-c1295f728436>\"\u001b[0;36m, line \u001b[0;32m12\u001b[0m\n\u001b[0;31m    if p1 = SIM:\u001b[0m\n\u001b[0m          ^\u001b[0m\n\u001b[0;31mSyntaxError\u001b[0m\u001b[0;31m:\u001b[0m invalid syntax\n"
          ]
        }
      ]
    }
  ]
}